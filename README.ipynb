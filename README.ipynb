{
 "cells": [
  {
   "cell_type": "markdown",
   "id": "f60a846f",
   "metadata": {},
   "source": [
    "# 🔬 Previsão de Doenças Relacionadas ao Clima com Machine Learning\n",
    "\n",
    "Este projeto utiliza técnicas de **aprendizado de ML com Python** para prever doenças a partir de condições climáticas e sintomas clínicos. O modelo foi treinado com dados simulados que associam temperatura, umidade, vento e sintomas (como febre, tosse, náusea) à **doença diagnosticada**.\n",
    "\n",
    "## 📂 Sobre o dataset\n",
    "\n",
    "O conjunto de dados foi retirado de um arquivo `.csv` contendo:\n",
    "\n",
    "- Variáveis numéricas: `Age`, `Temperature (C)`, `Humidity`, `Wind Speed (km/h)`\n",
    "- Variáveis binárias (sintomas): `fever`, `nausea`, `chills`, `shortness_of_breath`, etc.\n",
    "- Alvo: `prognosis` — representa o diagnóstico clínico (ex: Dengue, Stroke, Influenza, etc.)\n",
    "\n",
    "## 🚀 Pipeline do projeto\n",
    "\n",
    "1. **Importação e visualização dos dados**\n",
    "2. **Pré-processamento**\n",
    "   - Exclusão de valores ausentes (não houve necessidade no dataset atual)\n",
    "   - Separação entre variáveis preditoras (`X`) e variável alvo (`y`)\n",
    "3. **Divisão treino/teste**\n",
    "4. **Treinamento de modelo**\n",
    "   - Algoritmo: `RandomForestClassifier`\n",
    "5. **Avaliação**\n",
    "   - Métricas de classificação: accuracy, precision, recall, F1-score\n",
    "6. **Gráfico**\n",
    "   - Mostra quais fatores (clima/sintomas) mais influenciam o diagnóstico\n",
    "\n",
    "## 🧠 Resultados\n",
    "\n",
    "- **Acurácia:** 99%\n",
    "- **Classificação eficiente de todas as categorias de doença**\n",
    "- Excelente desempenho nas métricas macro e micro\n",
    "\n",
    "## 🛠️ Tecnologias utilizadas\n",
    "\n",
    "- Python 3.9+\n",
    "- Bibliotecas:\n",
    "  - `pandas`\n",
    "  - `scikit-learn`\n",
    "  - `matplotlib`\n",
    "\n",
    "\n"
   ]
  }
 ],
 "metadata": {
  "kernelspec": {
   "display_name": "Python 3",
   "language": "python",
   "name": "python3"
  },
  "language_info": {
   "codemirror_mode": {
    "name": "ipython",
    "version": 3
   },
   "file_extension": ".py",
   "mimetype": "text/x-python",
   "name": "python",
   "nbconvert_exporter": "python",
   "pygments_lexer": "ipython3",
   "version": "3.13.1"
  }
 },
 "nbformat": 4,
 "nbformat_minor": 5
}
